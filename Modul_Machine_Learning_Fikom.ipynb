{
  "cells": [
    {
      "cell_type": "markdown",
      "metadata": {
        "id": "view-in-github",
        "colab_type": "text"
      },
      "source": [
        "<a href=\"https://colab.research.google.com/github/lukmanprasetyo/Business-Model-Canvas-BMC-/blob/main/Modul_Machine_Learning_Fikom.ipynb\" target=\"_parent\"><img src=\"https://colab.research.google.com/assets/colab-badge.svg\" alt=\"Open In Colab\"/></a>"
      ]
    },
    {
      "cell_type": "markdown",
      "metadata": {
        "id": "oXCEwrMYPh5q"
      },
      "source": [
        "# **Numeric**\n",
        "print(10)\n",
        "print(type(10))"
      ]
    },
    {
      "cell_type": "code",
      "source": [
        "import numpy\n",
        "from scipy import stats\n",
        "\n",
        "spd = [99,86,87,88,111,86,103,87,94,78,77,85,86]\n",
        "\n",
        "#x = numpy.mean(spd)\n",
        "x = stats.mode(spd)\n",
        "\n",
        "print(x)\n"
      ],
      "metadata": {
        "colab": {
          "base_uri": "https://localhost:8080/"
        },
        "id": "73CypNPnZkoE",
        "outputId": "d60a54c9-4888-4b56-9c45-a9825186165c"
      },
      "execution_count": null,
      "outputs": [
        {
          "output_type": "stream",
          "name": "stdout",
          "text": [
            "ModeResult(mode=array([86]), count=array([3]))\n"
          ]
        },
        {
          "output_type": "stream",
          "name": "stderr",
          "text": [
            "<ipython-input-8-3438cdd142ad>:7: FutureWarning: Unlike other reduction functions (e.g. `skew`, `kurtosis`), the default behavior of `mode` typically preserves the axis it acts along. In SciPy 1.11.0, this behavior will change: the default value of `keepdims` will become False, the `axis` over which the statistic is taken will be eliminated, and the value None will no longer be accepted. Set `keepdims` to True or False to avoid this warning.\n",
            "  x = stats.mode(spd)\n"
          ]
        }
      ]
    },
    {
      "cell_type": "code",
      "execution_count": null,
      "metadata": {
        "colab": {
          "base_uri": "https://localhost:8080/"
        },
        "id": "r3f_SuxKHmTy",
        "outputId": "67e2c913-f39b-431a-e973-b62bd777c711"
      },
      "outputs": [
        {
          "name": "stdout",
          "output_type": "stream",
          "text": [
            "pras\n"
          ]
        }
      ],
      "source": [
        "print(\"pras\")\n"
      ]
    },
    {
      "cell_type": "code",
      "execution_count": null,
      "metadata": {
        "colab": {
          "background_save": true
        },
        "id": "rqRMayd3v7dR",
        "outputId": "cfcba194-b93a-4979-8d71-9b7b60ee49a2"
      },
      "outputs": [
        {
          "name": "stdout",
          "output_type": "stream",
          "text": [
            "pras\n",
            "<class 'str'>\n"
          ]
        }
      ],
      "source": [
        "a = \"pras\"\n",
        "print(a)\n",
        "print(type(a))"
      ]
    },
    {
      "cell_type": "code",
      "execution_count": null,
      "metadata": {
        "colab": {
          "base_uri": "https://localhost:8080/"
        },
        "id": "WtYwttTVPRJ_",
        "outputId": "32c396b0-46f2-4b12-d74a-52fab65b0b7f"
      },
      "outputs": [
        {
          "name": "stdout",
          "output_type": "stream",
          "text": [
            "10\n",
            "<class 'int'>\n"
          ]
        }
      ],
      "source": [
        "#Integer\n",
        "print(10)\n",
        "print(type(10)) "
      ]
    },
    {
      "cell_type": "code",
      "execution_count": null,
      "metadata": {
        "colab": {
          "base_uri": "https://localhost:8080/"
        },
        "id": "7hqAAh_EFEGb",
        "outputId": "db9dc954-7dcd-413f-8b24-6eca8e33ae2a"
      },
      "outputs": [
        {
          "name": "stdout",
          "output_type": "stream",
          "text": [
            "1.0\n",
            "<class 'float'>\n"
          ]
        }
      ],
      "source": [
        "#Float\n",
        "print(1.0)\n",
        "print(type(1.0))"
      ]
    },
    {
      "cell_type": "code",
      "execution_count": null,
      "metadata": {
        "colab": {
          "base_uri": "https://localhost:8080/"
        },
        "id": "Iem3ZPZiGnxV",
        "outputId": "2caf9b87-4eae-4f8e-f366-8708bea65e2f"
      },
      "outputs": [
        {
          "name": "stdout",
          "output_type": "stream",
          "text": [
            "<class 'bool'>\n",
            "<class 'bool'>\n"
          ]
        }
      ],
      "source": [
        "#Boolean\n",
        "x=True\n",
        "y=False\n",
        "print(type(x))\n",
        "print(type(y))"
      ]
    },
    {
      "cell_type": "code",
      "execution_count": null,
      "metadata": {
        "colab": {
          "base_uri": "https://localhost:8080/"
        },
        "id": "ij30xp03H7_7",
        "outputId": "d9b3bd06-29fd-499c-bfda-a17ac24c3bd0"
      },
      "outputs": [
        {
          "name": "stdout",
          "output_type": "stream",
          "text": [
            "['nasi', 'lauk', 'sayur', 'buah', 'susu']\n",
            "<class 'list'>\n",
            "sayur\n"
          ]
        }
      ],
      "source": [
        "#Sequence: list, tuple\n",
        "#list ->komentar\n",
        "a = ['nasi', 'lauk', 'sayur', 'buah', 'susu'] #definisi\n",
        "\n",
        "print(a) # ->Menampilkan output\n",
        "print(type(a)) # -> check tipe data\n",
        "print(a[2]) # -> manggil urutan"
      ]
    },
    {
      "cell_type": "code",
      "execution_count": null,
      "metadata": {
        "colab": {
          "base_uri": "https://localhost:8080/"
        },
        "id": "gsIIBl3pH60p",
        "outputId": "f8c780ad-a142-4224-bf79-a8ab388137d7"
      },
      "outputs": [
        {
          "name": "stdout",
          "output_type": "stream",
          "text": [
            "('apel', 'mangga', 'pepaya')\n",
            "<class 'tuple'>\n",
            "apel\n"
          ]
        }
      ],
      "source": [
        "#tuple\n",
        "b = ('apel', 'mangga', 'pepaya')\n",
        "print(b)\n",
        "print(type(b))\n",
        "\n",
        "print(b[0])"
      ]
    },
    {
      "cell_type": "code",
      "execution_count": null,
      "metadata": {
        "colab": {
          "base_uri": "https://localhost:8080/"
        },
        "id": "bkSXoqtkNt3a",
        "outputId": "5d2295ad-81bd-40a1-e71e-b44c7fbfe8e6"
      },
      "outputs": [
        {
          "name": "stdout",
          "output_type": "stream",
          "text": [
            "{'bayam', 'kangkung', 'wortel'}\n",
            "<class 'set'>\n"
          ]
        }
      ],
      "source": [
        "#Set\n",
        "c = {'bayam', 'kangkung', 'wortel'}\n",
        "print(c)\n",
        "print(type(c))\n",
        "print(c[0])"
      ]
    },
    {
      "cell_type": "code",
      "execution_count": null,
      "metadata": {
        "colab": {
          "base_uri": "https://localhost:8080/"
        },
        "id": "AZmbD8g_6g5x",
        "outputId": "afe2bf36-31a0-4644-99e9-cbfa86364425"
      },
      "outputs": [
        {
          "name": "stdout",
          "output_type": "stream",
          "text": [
            "<class 'dict'>\n",
            "{'name': 'John', 'age': 36}\n",
            "[1]\n"
          ]
        }
      ],
      "source": [
        "#dictionary\n",
        "x = {\"name\" : \"John\", \"age\" : 36}\n",
        "print(type(x))\n",
        "print(x)"
      ]
    },
    {
      "cell_type": "code",
      "execution_count": null,
      "metadata": {
        "colab": {
          "base_uri": "https://localhost:8080/"
        },
        "id": "SQkL8kQeYgDu",
        "outputId": "c6b3c550-4fd9-4c64-8815-e54903aa2088"
      },
      "outputs": [
        {
          "name": "stdout",
          "output_type": "stream",
          "text": [
            "yes 1\n",
            "yes 4\n",
            "yes 5\n"
          ]
        }
      ],
      "source": [
        "#Conditions, Control Flow & Looping: \n",
        "x = 0\n",
        "y = 5\n",
        "\n",
        "if x < y:                            # Benar\n",
        "    print('yes 1')\n",
        "if y < x:                            # Salah\n",
        "    print('yes 2')\n",
        "if x:                                # Salah\n",
        "    print('yes 3')\n",
        "if y:                                # Benar\n",
        "    print('yes 4')\n",
        "if 'aul' in 'grault':                # Benar\n",
        "    print('yes 5')\n",
        "if 'quux' in ['foo', 'bar', 'baz']:  # Salah\n",
        "    print('yes 6')"
      ]
    },
    {
      "cell_type": "code",
      "execution_count": null,
      "metadata": {
        "colab": {
          "base_uri": "https://localhost:8080/"
        },
        "id": "zfr3DP-njNzW",
        "outputId": "8640c749-f89b-4607-cd18-2e852b9eb74b"
      },
      "outputs": [
        {
          "name": "stdout",
          "output_type": "stream",
          "text": [
            "1\n",
            "2\n",
            "3\n",
            "4\n",
            "5\n"
          ]
        }
      ],
      "source": [
        "#While\n",
        "i = 1\n",
        "while i < 6:\n",
        "  print(i)\n",
        "  i += 1"
      ]
    },
    {
      "cell_type": "code",
      "execution_count": null,
      "metadata": {
        "colab": {
          "base_uri": "https://localhost:8080/"
        },
        "id": "ou5RL18KjZ8Z",
        "outputId": "70c11f91-01e1-4cec-f381-b626d6e8c483"
      },
      "outputs": [
        {
          "name": "stdout",
          "output_type": "stream",
          "text": [
            "1\n",
            "2\n",
            "3\n"
          ]
        }
      ],
      "source": [
        "#breaks\n",
        "i = 1\n",
        "while i < 6:\n",
        "  print(i)\n",
        "  if i == 3:\n",
        "    break\n",
        "  i += 1"
      ]
    },
    {
      "cell_type": "markdown",
      "metadata": {
        "id": "Aa8UcUwq2kQF"
      },
      "source": [
        "# Conditions, Control Flow & Looping:"
      ]
    },
    {
      "cell_type": "code",
      "execution_count": null,
      "metadata": {
        "colab": {
          "base_uri": "https://localhost:8080/"
        },
        "id": "a0ysd7m-jaH9",
        "outputId": "b576c2b8-07e4-4107-b12e-3b62503bf660"
      },
      "outputs": [
        {
          "name": "stdout",
          "output_type": "stream",
          "text": [
            "(kedua)\n",
            "nilai x besar\n"
          ]
        }
      ],
      "source": [
        "#else \n",
        "x = 120\n",
        "\n",
        "if x < 50:\n",
        "    print('(pertama)')\n",
        "    print('nilai x kecil')\n",
        "else:\n",
        "    print('(kedua)')\n",
        "    print('nilai x besar')"
      ]
    },
    {
      "cell_type": "code",
      "execution_count": null,
      "metadata": {
        "colab": {
          "base_uri": "https://localhost:8080/"
        },
        "id": "bPkQD8Cem-Hv",
        "outputId": "d3eead66-2148-482a-97d3-6467d0d78849"
      },
      "outputs": [
        {
          "name": "stdout",
          "output_type": "stream",
          "text": [
            "(kedua)\n",
            "nilai x besar\n"
          ]
        }
      ],
      "source": [
        "#else \n",
        "x = 120\n",
        "\n",
        "if x < 50:\n",
        "    print('(pertama)')\n",
        "    print('nilai x kecil')\n",
        "else:\n",
        "    print('(kedua)')\n",
        "    print('nilai x besar')"
      ]
    },
    {
      "cell_type": "code",
      "execution_count": null,
      "metadata": {
        "colab": {
          "base_uri": "https://localhost:8080/"
        },
        "id": "KSdbczUXnrcy",
        "outputId": "3d716f52-8f0b-4b9a-c801-8ee45c7b3090"
      },
      "outputs": [
        {
          "name": "stdout",
          "output_type": "stream",
          "text": [
            "Masukkan nilai: 85\n",
            "Predikat B\n"
          ]
        }
      ],
      "source": [
        "#elif\n",
        "nilai = int(input('Masukkan nilai: '))\n",
        "\n",
        "if nilai >= 90:\n",
        "  print('Predikat A')\n",
        "elif nilai >= 80:\n",
        "  print('Predikat B')\n",
        "elif nilai >= 60:\n",
        "  print('Predikat C')\n",
        "elif nilai >= 40:\n",
        "  print('Predikat D')\n",
        "else:\n",
        "  print('Predikat E')"
      ]
    },
    {
      "cell_type": "code",
      "execution_count": null,
      "metadata": {
        "colab": {
          "base_uri": "https://localhost:8080/"
        },
        "id": "w-BWGo-y3IUc",
        "outputId": "b5f99919-1a88-4afa-d7c3-41abf62b154a"
      },
      "outputs": [
        {
          "name": "stdout",
          "output_type": "stream",
          "text": [
            "1\n",
            "2\n",
            "3\n",
            "4\n",
            "5\n"
          ]
        }
      ],
      "source": [
        "#looping\n",
        "i = 1\n",
        "while i < 6:\n",
        "  print(i)\n",
        "  i += 1"
      ]
    },
    {
      "cell_type": "markdown",
      "metadata": {
        "id": "Y7OOpgq58Iap"
      },
      "source": [
        "Operator"
      ]
    },
    {
      "cell_type": "code",
      "execution_count": null,
      "metadata": {
        "colab": {
          "background_save": true,
          "base_uri": "https://localhost:8080/"
        },
        "id": "6MyKfEtK3hFK",
        "outputId": "29846ad6-5cec-4b53-80e7-0d7b8303df00"
      },
      "outputs": [
        {
          "name": "stdout",
          "output_type": "stream",
          "text": [
            "9\n",
            "3\n",
            "18\n",
            "2.0\n",
            "216\n"
          ]
        }
      ],
      "source": [
        "#Aritmatika\n",
        "x = 6\n",
        "y = 3\n",
        "\n",
        "print(x + y)\n",
        "print(x - y)\n",
        "print(x * y)\n",
        "print(x / y)\n",
        "print(x ** y)3*3*3*3*3\n"
      ]
    },
    {
      "cell_type": "code",
      "execution_count": null,
      "metadata": {
        "colab": {
          "base_uri": "https://localhost:8080/"
        },
        "id": "wsPumFcjWu79",
        "outputId": "e38e502a-6f83-4729-8705-5ef35820c346"
      },
      "outputs": [
        {
          "name": "stdout",
          "output_type": "stream",
          "text": [
            "True\n"
          ]
        }
      ],
      "source": [
        "#operator assigment\n",
        "x = 5\n",
        "y = 5\n",
        "\n",
        "print(x == y)\n",
        "\n",
        "# \n"
      ]
    },
    {
      "cell_type": "code",
      "execution_count": null,
      "metadata": {
        "colab": {
          "base_uri": "https://localhost:8080/"
        },
        "id": "k-whxmjv8XOB",
        "outputId": "6d96cc96-9afd-4835-d47f-c917fa8fc6da"
      },
      "outputs": [
        {
          "name": "stdout",
          "output_type": "stream",
          "text": [
            "56\n"
          ]
        }
      ],
      "source": [
        "#len untuk menghitung panjang data\n",
        "x = \"Hello Worldyvibunlknhubjgytfvrvyguhjiokhujgfvcgvbhjnkiok\"\n",
        "print(\n",
        "len(x)\n",
        ")"
      ]
    },
    {
      "cell_type": "markdown",
      "metadata": {
        "id": "C15NgJGsXZW9"
      },
      "source": [
        "# Machine Learning"
      ]
    },
    {
      "cell_type": "code",
      "source": [
        "#mean\n",
        "import numpy\n",
        "\n",
        "angka = [99,86,87,88,111,86,103,87,94,78,77,85,86]\n",
        "\n",
        "x = numpy.mean(angka)\n",
        "\n",
        "print(x)"
      ],
      "metadata": {
        "colab": {
          "base_uri": "https://localhost:8080/"
        },
        "id": "vnkrJFMK8rnM",
        "outputId": "629dc4a0-68ef-4e9e-dd34-2c528fa2abfc"
      },
      "execution_count": null,
      "outputs": [
        {
          "output_type": "stream",
          "name": "stdout",
          "text": [
            "89.76923076923077\n"
          ]
        }
      ]
    },
    {
      "cell_type": "code",
      "source": [
        "#mean\n",
        "import numpy\n",
        "\n",
        "angka = [99,86,87,88,111,86,103,87,94,78,77,85,86]\n",
        "\n",
        "x = numpy.sum(angka)\n",
        "\n",
        "print(x)"
      ],
      "metadata": {
        "colab": {
          "base_uri": "https://localhost:8080/"
        },
        "id": "CFhTZF_s_Fho",
        "outputId": "44a4fe56-74ca-4ec0-aed1-96c96dfcdd3e"
      },
      "execution_count": null,
      "outputs": [
        {
          "output_type": "stream",
          "name": "stdout",
          "text": [
            "1167\n"
          ]
        }
      ]
    },
    {
      "cell_type": "code",
      "source": [
        "#median\n",
        "import numpy\n",
        "\n",
        "speed = [99,86,87,88,111,86,103,87,94,78,77,85,86]\n",
        "\n",
        "x = numpy.median(speed)\n",
        "\n",
        "print(x)"
      ],
      "metadata": {
        "colab": {
          "base_uri": "https://localhost:8080/"
        },
        "id": "BdYLxHUc8Fjy",
        "outputId": "5b01f63c-c282-4470-ebeb-332dd5bb9b41"
      },
      "execution_count": null,
      "outputs": [
        {
          "output_type": "stream",
          "name": "stdout",
          "text": [
            "87.0\n"
          ]
        }
      ]
    },
    {
      "cell_type": "code",
      "source": [
        "#stnadar deviasi\n",
        "import numpy\n",
        "\n",
        "angka = [99,86,87,88,111,86,103,87,94,78,77,85,86]\n",
        "\n",
        "x = numpy.std(angka)\n",
        "\n",
        "print(x)"
      ],
      "metadata": {
        "colab": {
          "base_uri": "https://localhost:8080/"
        },
        "id": "11h7j6_g9Ua8",
        "outputId": "2b77a5d5-8a02-47ac-c6c6-aae08f280ced"
      },
      "execution_count": null,
      "outputs": [
        {
          "output_type": "stream",
          "name": "stdout",
          "text": [
            "9.258292301032677\n"
          ]
        }
      ]
    },
    {
      "cell_type": "code",
      "source": [
        "#variance\n",
        "import numpy\n",
        "\n",
        "angka = [99,86,87,88,111,86,103,87,94,78,77,85,86]\n",
        "\n",
        "x = numpy.var(angka)\n",
        "\n",
        "print(x)"
      ],
      "metadata": {
        "colab": {
          "base_uri": "https://localhost:8080/"
        },
        "id": "S0_Mt9B9Kh04",
        "outputId": "f0c5262f-7ac5-4067-b0c0-ef87b935f43c"
      },
      "execution_count": null,
      "outputs": [
        {
          "output_type": "stream",
          "name": "stdout",
          "text": [
            "85.71597633136093\n",
            "85.71597633136093\n"
          ]
        }
      ]
    },
    {
      "cell_type": "code",
      "source": [
        "#precentile\n",
        "import numpy\n",
        "\n",
        "angka = [77,78,85,86,86,86,87,87,88,94,99,103,111 ]\n",
        "\n",
        "x = numpy.percentile(angka, 50)\n",
        "\n",
        "print(x)"
      ],
      "metadata": {
        "colab": {
          "base_uri": "https://localhost:8080/"
        },
        "id": "nSJr_hkhEV63",
        "outputId": "dac9feb1-ef03-4616-89af-8ed6051432f0"
      },
      "execution_count": null,
      "outputs": [
        {
          "output_type": "stream",
          "name": "stdout",
          "text": [
            "87.0\n"
          ]
        }
      ]
    },
    {
      "cell_type": "markdown",
      "source": [
        "Distribusi Data"
      ],
      "metadata": {
        "id": "UlS0rlaGNN9r"
      }
    },
    {
      "cell_type": "code",
      "source": [
        "#Three lines to make our compiler able to draw:\n",
        "import sys\n",
        "import matplotlib\n",
        "matplotlib.use('Agg')\n",
        "\n",
        "import numpy\n",
        "import matplotlib.pyplot as plt\n",
        "\n",
        "x = numpy.random.uniform(0.0, 5.0, 250)\n",
        "\n",
        "plt.hist(x, 5)\n",
        "plt.show()\n",
        "\n",
        "#Two  lines to make our compiler able to draw:\n"
      ],
      "metadata": {
        "id": "YX24_rdGFKWe"
      },
      "execution_count": null,
      "outputs": []
    },
    {
      "cell_type": "code",
      "source": [],
      "metadata": {
        "id": "62EOGYD2NPy0"
      },
      "execution_count": null,
      "outputs": []
    },
    {
      "cell_type": "markdown",
      "source": [
        "# Normal Distribution"
      ],
      "metadata": {
        "id": "l-2KkkivN-Wz"
      }
    },
    {
      "cell_type": "code",
      "source": [
        "#connect data ke google\n",
        "from google.colab import drive\n",
        "drive.mount('/content/drive/')"
      ],
      "metadata": {
        "colab": {
          "base_uri": "https://localhost:8080/"
        },
        "id": "BEsfo3uDOFeJ",
        "outputId": "fe16e129-66bd-4904-db8d-39291e41ecee"
      },
      "execution_count": null,
      "outputs": [
        {
          "output_type": "stream",
          "name": "stdout",
          "text": [
            "Drive already mounted at /content/drive/; to attempt to forcibly remount, call drive.mount(\"/content/drive/\", force_remount=True).\n"
          ]
        }
      ]
    },
    {
      "cell_type": "code",
      "source": [
        "#Checking if the files are available\n",
        "!ls \"drive/My Drive\""
      ],
      "metadata": {
        "colab": {
          "base_uri": "https://localhost:8080/"
        },
        "id": "KzyZ5MQcOVnO",
        "outputId": "0e5078b3-8825-4588-9d2b-815ac626fa1e"
      },
      "execution_count": null,
      "outputs": [
        {
          "output_type": "stream",
          "name": "stdout",
          "text": [
            "ls: cannot access 'drive/My Drive': No such file or directory\n"
          ]
        }
      ]
    },
    {
      "cell_type": "code",
      "source": [
        "import os\n",
        "os.environ[\"KAGGLE_CONFIG_DIR\"] = '/content/drive/MyDrive/dataset'"
      ],
      "metadata": {
        "id": "0A_rGEZ-Okk7"
      },
      "execution_count": null,
      "outputs": []
    },
    {
      "cell_type": "code",
      "source": [
        "%cd drive/MyDrive/dataset/"
      ],
      "metadata": {
        "colab": {
          "base_uri": "https://localhost:8080/"
        },
        "id": "-unXl1EsOx_I",
        "outputId": "fbabde8e-0396-47b7-e053-41a7983afa6e"
      },
      "execution_count": null,
      "outputs": [
        {
          "output_type": "stream",
          "name": "stdout",
          "text": [
            "/content/drive/MyDrive/dataset\n"
          ]
        }
      ]
    },
    {
      "cell_type": "markdown",
      "source": [
        "Download dataset "
      ],
      "metadata": {
        "id": "irN6I3B_QAoY"
      }
    },
    {
      "cell_type": "code",
      "source": [
        "!kaggle datasets download -d brllrb/uber-and-lyft-dataset-boston-ma"
      ],
      "metadata": {
        "colab": {
          "base_uri": "https://localhost:8080/"
        },
        "id": "9vF8_p_xO0-J",
        "outputId": "1af9f2d6-af23-4a61-f41e-fedfb7400f18"
      },
      "execution_count": null,
      "outputs": [
        {
          "output_type": "stream",
          "name": "stdout",
          "text": [
            "uber-and-lyft-dataset-boston-ma.zip: Skipping, found more recently modified local copy (use --force to force download)\n"
          ]
        }
      ]
    },
    {
      "cell_type": "markdown",
      "source": [
        "Unzip dataset"
      ],
      "metadata": {
        "id": "94yMOgPFQDuV"
      }
    },
    {
      "cell_type": "code",
      "source": [
        "!unzip uber-and-lyft-dataset-boston-ma.zip -d uber-and-lyft"
      ],
      "metadata": {
        "colab": {
          "base_uri": "https://localhost:8080/"
        },
        "id": "Ga_RPPEDPvXs",
        "outputId": "53276ee8-f06c-4d78-8581-b4490359ac1d"
      },
      "execution_count": null,
      "outputs": [
        {
          "output_type": "stream",
          "name": "stdout",
          "text": [
            "unzip:  cannot find or open uber-and-lyft-dataset-boston-ma.zip, uber-and-lyft-dataset-boston-ma.zip.zip or uber-and-lyft-dataset-boston-ma.zip.ZIP.\n"
          ]
        }
      ]
    },
    {
      "cell_type": "code",
      "source": [
        "#connect data ke google\n",
        "from google.colab import drive\n",
        "drive.mount('/content/drive/')"
      ],
      "metadata": {
        "id": "MlTM1mGwQ2y9",
        "colab": {
          "base_uri": "https://localhost:8080/"
        },
        "outputId": "54c6df6b-07a1-4ac2-94c8-05475da528cc"
      },
      "execution_count": null,
      "outputs": [
        {
          "output_type": "stream",
          "name": "stdout",
          "text": [
            "Drive already mounted at /content/drive/; to attempt to forcibly remount, call drive.mount(\"/content/drive/\", force_remount=True).\n"
          ]
        }
      ]
    },
    {
      "cell_type": "code",
      "source": [
        "#Checking if the files are available\n",
        "!ls \"drive/My Drive\""
      ],
      "metadata": {
        "colab": {
          "base_uri": "https://localhost:8080/"
        },
        "id": "F11ywm40TEdr",
        "outputId": "54cc3ac5-a5be-4d16-8850-224db3c3c12e"
      },
      "execution_count": null,
      "outputs": [
        {
          "output_type": "stream",
          "name": "stdout",
          "text": [
            "ls: cannot access 'drive/My Drive': No such file or directory\n"
          ]
        }
      ]
    },
    {
      "cell_type": "code",
      "source": [
        "import os\n",
        "os.environ[\"KAGGLE_CONFIG_DIR\"] = '/content/drive/MyDrive/dataset'"
      ],
      "metadata": {
        "id": "yqXNbflvTKDV"
      },
      "execution_count": null,
      "outputs": []
    },
    {
      "cell_type": "code",
      "source": [],
      "metadata": {
        "id": "J3dA1AHETOCv"
      },
      "execution_count": null,
      "outputs": []
    },
    {
      "cell_type": "markdown",
      "source": [
        "# **Machine Learning 2**\n",
        "77,78,85,86,86,86,87,87,88,94,99,103,111\n",
        "> Indented block\n",
        "\n"
      ],
      "metadata": {
        "id": "HK2XKTp-TrmS"
      }
    },
    {
      "cell_type": "code",
      "source": [
        "#mean \n",
        "import numpy\n",
        "\n",
        "angka = [77,78,85,86,86,86,87,87,88,94,99,103,111]\n",
        "\n",
        "y = numpy.sum(angka)\n",
        "\n",
        "print (y)\n",
        "print(x)"
      ],
      "metadata": {
        "colab": {
          "base_uri": "https://localhost:8080/"
        },
        "id": "i-i3sdWBT27J",
        "outputId": "0fa63b27-ec78-40b2-c9e0-9e24b1f6a2b8"
      },
      "execution_count": null,
      "outputs": [
        {
          "output_type": "stream",
          "name": "stdout",
          "text": [
            "1167\n",
            "85.71597633136095\n"
          ]
        }
      ]
    },
    {
      "cell_type": "code",
      "source": [
        "#median\n",
        "import numpy\n",
        "\n",
        "angka = [77,78,85,86,86,86,87,87,88,94,99,103,111]\n",
        "\n",
        "x = numpy.median(angka)\n",
        "\n",
        "print(x)"
      ],
      "metadata": {
        "colab": {
          "base_uri": "https://localhost:8080/"
        },
        "id": "lQIU2N3EXtOk",
        "outputId": "6eeaea20-b3d5-4ebd-fa8a-e7ec71d7e3d0"
      },
      "execution_count": null,
      "outputs": [
        {
          "output_type": "stream",
          "name": "stdout",
          "text": [
            "87.0\n"
          ]
        }
      ]
    },
    {
      "cell_type": "code",
      "source": [
        "#standar deviation (simpanan baku)\n",
        "import numpy\n",
        "\n",
        "angka = [77,78,85,86,86,86,87,87,88,94,99,103,111]\n",
        "\n",
        "x = numpy.std(angka)\n",
        "\n",
        "print(x)"
      ],
      "metadata": {
        "colab": {
          "base_uri": "https://localhost:8080/"
        },
        "id": "VYJap19tb0xr",
        "outputId": "87a1d215-eed3-4bf1-dc68-7a16b8dbfb1a"
      },
      "execution_count": null,
      "outputs": [
        {
          "output_type": "stream",
          "name": "stdout",
          "text": [
            "9.258292301032677\n"
          ]
        }
      ]
    },
    {
      "cell_type": "code",
      "source": [
        "#Variance \n",
        "import numpy\n",
        "\n",
        "angka = [77,78,85,86,86,86,87,87,88,94,99,103,111]\n",
        "\n",
        "x = numpy.var(angka)\n",
        "\n",
        "print(x)"
      ],
      "metadata": {
        "colab": {
          "base_uri": "https://localhost:8080/"
        },
        "id": "tw8_rpB-b9FQ",
        "outputId": "f46ebdee-6f8f-4dab-a76f-3f49bfc43645"
      },
      "execution_count": null,
      "outputs": [
        {
          "output_type": "stream",
          "name": "stdout",
          "text": [
            "85.71597633136095\n"
          ]
        }
      ]
    },
    {
      "cell_type": "code",
      "source": [
        "#precentile\n",
        "import numpy\n",
        "\n",
        "angka = [77,78,85,86,86,86,87,87,88,94,99,103,111 ]\n",
        "\n",
        "x = numpy.percentile(angka, 50)\n",
        "\n",
        "print(x)"
      ],
      "metadata": {
        "colab": {
          "base_uri": "https://localhost:8080/"
        },
        "id": "Mb5-I0oWcISM",
        "outputId": "1cbffae7-535b-4b8c-8a04-1faa2cd92f0d"
      },
      "execution_count": null,
      "outputs": [
        {
          "output_type": "stream",
          "name": "stdout",
          "text": [
            "87.0\n"
          ]
        }
      ]
    },
    {
      "cell_type": "code",
      "source": [],
      "metadata": {
        "id": "Dlq2kZn4fPJu"
      },
      "execution_count": null,
      "outputs": []
    },
    {
      "cell_type": "markdown",
      "source": [
        "# Belajar Connect Gdrive "
      ],
      "metadata": {
        "id": "hIdbEpGff7Xj"
      }
    },
    {
      "cell_type": "code",
      "source": [
        "from google.colab import drive\n",
        "drive.mount('/content/drive/')"
      ],
      "metadata": {
        "id": "FqrgDKC3gMY4",
        "colab": {
          "base_uri": "https://localhost:8080/"
        },
        "outputId": "829d0ef8-8666-4ea5-d851-3f6812551b14"
      },
      "execution_count": null,
      "outputs": [
        {
          "output_type": "stream",
          "name": "stdout",
          "text": [
            "Drive already mounted at /content/drive/; to attempt to forcibly remount, call drive.mount(\"/content/drive/\", force_remount=True).\n"
          ]
        }
      ]
    },
    {
      "cell_type": "markdown",
      "source": [],
      "metadata": {
        "id": "d7N3uRJI9fok"
      }
    }
  ],
  "metadata": {
    "colab": {
      "provenance": [],
      "toc_visible": true,
      "authorship_tag": "ABX9TyPHVkjcoNzfpVkc44KUIffe",
      "include_colab_link": true
    },
    "kernelspec": {
      "display_name": "Python 3",
      "name": "python3"
    },
    "language_info": {
      "name": "python"
    }
  },
  "nbformat": 4,
  "nbformat_minor": 0
}